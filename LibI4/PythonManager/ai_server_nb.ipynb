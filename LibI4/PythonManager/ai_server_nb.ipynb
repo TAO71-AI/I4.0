{
 "cells": [
  {
   "cell_type": "markdown",
   "metadata": {},
   "source": [
    "# I4.0 Server (for Python notebooks)"
   ]
  },
  {
   "cell_type": "markdown",
   "metadata": {},
   "source": [
    "## NOTE\n",
    "I4.0 is only compatible with AMD or NVIDIA GPUs, Intel GPUs are only supported with the GPT4All model."
   ]
  },
  {
   "cell_type": "code",
   "execution_count": null,
   "metadata": {},
   "outputs": [],
   "source": [
    "# If you have an AMD GPU, set this to true.\n",
    "amd_gpu: bool = False"
   ]
  },
  {
   "cell_type": "markdown",
   "metadata": {},
   "source": [
    "## Download and install I4.0"
   ]
  },
  {
   "cell_type": "code",
   "execution_count": null,
   "metadata": {},
   "outputs": [],
   "source": [
    "import os\n",
    "\n",
    "# Check NVIDIA GPU if 'amd_gpu' is 'False'\n",
    "if (not amd_gpu):\n",
    "    if (os.system(\"nvidia-smi\") != 0):\n",
    "        raise Exception(\"The variable 'amd_gpu' is 'False' and you don't have a NVIDIA GPU.\")\n",
    "\n",
    "# Clone from the GitHub repository\n",
    "os.system(\"git clone https://github.com/TAO71-AI/I4.0.git\")\n",
    "os.system(\"mv I4.0/LibI4/PythonManager .\")\n",
    "\n",
    "# Install dependencies from pip\n",
    "if (amd_gpu):\n",
    "    os.system(\"pip install --upgrade -r requirements_amdgpu.txt\")\n",
    "\n",
    "os.system(\"pip install --upgrade -r requirements.txt\")\n",
    "os.system(\"pip install --upgrade -r requirements_recommended.txt\")"
   ]
  },
  {
   "cell_type": "markdown",
   "metadata": {},
   "source": [
    "## Set some variables"
   ]
  },
  {
   "cell_type": "code",
   "execution_count": null,
   "metadata": {},
   "outputs": [],
   "source": [
    "from ai_server import *\n",
    "\n",
    "# Set variables\n",
    "max_buffer_length: int = 4096\n",
    "max_users: int = 1000\n",
    "extra_system_messages: list[str] = []\n",
    "plugins: list[str] = cb.basics.Plugins.All()\n",
    "version: str = \"TAO71 I4.0 for Servers (Notebook version)\""
   ]
  },
  {
   "cell_type": "markdown",
   "metadata": {},
   "source": [
    "## Start I4.0 server"
   ]
  },
  {
   "cell_type": "code",
   "execution_count": null,
   "metadata": {},
   "outputs": [],
   "source": [
    "import time\n",
    "\n",
    "# Start server\n",
    "start_server(max_buffer_length, max_users, [], extra_system_messages, plugins, version)\n",
    "\n",
    "# Wait indefinitely\n",
    "try:\n",
    "    time.sleep()\n",
    "except:\n",
    "    pass\n",
    "\n",
    "# Close server\n",
    "print(\"Closing server...\")\n",
    "\n",
    "cfg.SaveConfig()\n",
    "sb.StopDB()\n",
    "logs.WriteToFile()\n",
    "UpdateServer()\n",
    "os._exit(0)"
   ]
  }
 ],
 "metadata": {
  "language_info": {
   "name": "python"
  }
 },
 "nbformat": 4,
 "nbformat_minor": 2
}
